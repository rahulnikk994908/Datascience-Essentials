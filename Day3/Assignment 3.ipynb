{
 "cells": [
  {
   "cell_type": "markdown",
   "metadata": {},
   "source": [
    "QUE.1)\n",
    "ANS-->\n"
   ]
  },
  {
   "cell_type": "code",
   "execution_count": 2,
   "metadata": {},
   "outputs": [
    {
     "data": {
      "text/plain": [
       "array([ 2,  5,  8, 11, 14, 17, 20, 23, 26, 29, 32, 35, 38, 41, 44, 47])"
      ]
     },
     "execution_count": 2,
     "metadata": {},
     "output_type": "execute_result"
    }
   ],
   "source": [
    "import numpy as np\n",
    "np.arange(start=2,stop=50,step=3)"
   ]
  },
  {
   "cell_type": "markdown",
   "metadata": {},
   "source": [
    "QUE.2)\n",
    "ANS-->"
   ]
  },
  {
   "cell_type": "code",
   "execution_count": 17,
   "metadata": {},
   "outputs": [
    {
     "name": "stdout",
     "output_type": "stream",
     "text": [
      "Enter number of element3\n",
      "5\n",
      "4\n",
      "3\n",
      "8\n",
      "4\n",
      "3\n",
      "[5, 4, 3, 8, 4, 3]\n",
      "[3 4 5]\n",
      "[3 4 8]\n"
     ]
    }
   ],
   "source": [
    "import numpy as np\n",
    "lst1=[]\n",
    "lst2=[]\n",
    "n=int(input(\"Enter number of element\"))\n",
    "for i in range(0,n):\n",
    "    ele1=int(input())\n",
    "    lst1.append(ele1)\n",
    "for j in range(0,n):\n",
    "    ele2=int(input())\n",
    "    lst2.append(ele2)\n",
    "array1=np.array(lst1)\n",
    "array2=np.array(lst2)\n",
    "appended=[y for x in [array1,array2] for y in x]\n",
    "print(str(appended))\n",
    "arr=np.sort(array1)\n",
    "brr=np.sort(array2)\n",
    "print(arr)\n",
    "print(brr)"
   ]
  },
  {
   "cell_type": "markdown",
   "metadata": {},
   "source": [
    "QUE.3)\n",
    "ANS-->\n"
   ]
  },
  {
   "cell_type": "code",
   "execution_count": 19,
   "metadata": {},
   "outputs": [
    {
     "name": "stdout",
     "output_type": "stream",
     "text": [
      "Dimensions: 2\n",
      "Size: 8\n"
     ]
    }
   ],
   "source": [
    "import numpy as np\n",
    "arr=np.array([[4,2,7,8],[9,6,8,7]])\n",
    "print(\"Dimensions:\",arr.ndim)\n",
    "print(\"Size:\",arr.size)"
   ]
  },
  {
   "cell_type": "markdown",
   "metadata": {},
   "source": [
    "QUE.4\n",
    "ANS-->"
   ]
  },
  {
   "cell_type": "code",
   "execution_count": 20,
   "metadata": {},
   "outputs": [
    {
     "data": {
      "text/plain": [
       "(5,)"
      ]
     },
     "execution_count": 20,
     "metadata": {},
     "output_type": "execute_result"
    }
   ],
   "source": [
    "a=np.array([1,2,3,4,5])\n",
    "a.shape"
   ]
  },
  {
   "cell_type": "code",
   "execution_count": 21,
   "metadata": {},
   "outputs": [
    {
     "data": {
      "text/plain": [
       "(5, 1)"
      ]
     },
     "execution_count": 21,
     "metadata": {},
     "output_type": "execute_result"
    }
   ],
   "source": [
    "b=np.expand_dims(a,axis=1)\n",
    "b.shape"
   ]
  },
  {
   "cell_type": "code",
   "execution_count": 22,
   "metadata": {},
   "outputs": [
    {
     "data": {
      "text/plain": [
       "(1, 5)"
      ]
     },
     "execution_count": 22,
     "metadata": {},
     "output_type": "execute_result"
    }
   ],
   "source": [
    "c=np.expand_dims(a,axis=0)\n",
    "c.shape"
   ]
  },
  {
   "cell_type": "markdown",
   "metadata": {},
   "source": [
    "QUE.5\n",
    "ANS-->\n"
   ]
  },
  {
   "cell_type": "code",
   "execution_count": 24,
   "metadata": {},
   "outputs": [
    {
     "name": "stdout",
     "output_type": "stream",
     "text": [
      "vertical stacking:\n",
      " [[2 4]\n",
      " [3 5]\n",
      " [7 9]\n",
      " [6 8]]\n",
      "horizontal stacking:\n",
      " [[2 4 7 9]\n",
      " [3 5 6 8]]\n"
     ]
    }
   ],
   "source": [
    "a=np.array([[2,4],[3,5]])\n",
    "b=np.array([[7,9],[6,8]])\n",
    "#vertical stacking\n",
    "print(\"vertical stacking:\\n\",np.vstack((a,b)))\n",
    "#horizontal stacking\n",
    "print(\"horizontal stacking:\\n\",np.hstack((a,b)))"
   ]
  },
  {
   "cell_type": "markdown",
   "metadata": {},
   "source": [
    "QUE.6\n",
    "ANS-->\n"
   ]
  },
  {
   "cell_type": "code",
   "execution_count": 25,
   "metadata": {},
   "outputs": [
    {
     "name": "stdout",
     "output_type": "stream",
     "text": [
      "No of unique items: 6\n"
     ]
    }
   ],
   "source": [
    "# input list\n",
    "items=[3,7,8,9,6,6,4,3,3,7]\n",
    "#get items\n",
    "l1=[]\n",
    "#counter\n",
    "count=0\n",
    "for item in items:\n",
    "    if item not in l1:\n",
    "        count+=1\n",
    "        l1.append(item)\n",
    "#printing no of unique items from input list\n",
    "print(\"No of unique items:\",count)\n",
    "\n"
   ]
  },
  {
   "cell_type": "code",
   "execution_count": null,
   "metadata": {},
   "outputs": [],
   "source": []
  }
 ],
 "metadata": {
  "kernelspec": {
   "display_name": "Python 3",
   "language": "python",
   "name": "python3"
  },
  "language_info": {
   "codemirror_mode": {
    "name": "ipython",
    "version": 3
   },
   "file_extension": ".py",
   "mimetype": "text/x-python",
   "name": "python",
   "nbconvert_exporter": "python",
   "pygments_lexer": "ipython3",
   "version": "3.8.3"
  }
 },
 "nbformat": 4,
 "nbformat_minor": 4
}
